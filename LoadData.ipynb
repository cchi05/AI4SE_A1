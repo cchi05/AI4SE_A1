{
 "cells": [
  {
   "cell_type": "markdown",
   "metadata": {},
   "source": [
    "# Load Dataset "
   ]
  },
  {
   "cell_type": "code",
   "execution_count": 1,
   "metadata": {},
   "outputs": [],
   "source": [
    "import json\n",
    "\n",
    "import pandas as pd\n",
    "from pathlib import Path\n",
    "pd.set_option('max_colwidth',300)\n",
    "from pprint import pprint\n",
    "\n",
    "from sklearn.model_selection import train_test_split"
   ]
  },
  {
   "cell_type": "code",
   "execution_count": 2,
   "metadata": {},
   "outputs": [
    {
     "name": "stdout",
     "output_type": "stream",
     "text": [
      "Archive:  java.zip\n",
      "   creating: java/\n",
      "   creating: java/final/\n",
      "   creating: java/final/jsonl/\n",
      "   creating: java/final/jsonl/train/\n",
      "  inflating: java/final/jsonl/train/java_train_12.jsonl.gz  \n",
      "  inflating: java/final/jsonl/train/java_train_9.jsonl.gz  \n",
      "  inflating: java/final/jsonl/train/java_train_3.jsonl.gz  \n",
      "  inflating: java/final/jsonl/train/java_train_5.jsonl.gz  \n",
      "  inflating: java/final/jsonl/train/java_train_7.jsonl.gz  \n",
      "  inflating: java/final/jsonl/train/java_train_1.jsonl.gz  \n",
      "  inflating: java/final/jsonl/train/java_train_10.jsonl.gz  \n",
      "  inflating: java/final/jsonl/train/java_train_14.jsonl.gz  \n",
      "  inflating: java/final/jsonl/train/java_train_0.jsonl.gz  \n",
      "  inflating: java/final/jsonl/train/java_train_6.jsonl.gz  \n",
      "  inflating: java/final/jsonl/train/java_train_8.jsonl.gz  \n",
      "  inflating: java/final/jsonl/train/java_train_15.jsonl.gz  \n",
      "  inflating: java/final/jsonl/train/java_train_2.jsonl.gz  \n",
      "  inflating: java/final/jsonl/train/java_train_4.jsonl.gz  \n",
      "  inflating: java/final/jsonl/train/java_train_13.jsonl.gz  \n",
      "  inflating: java/final/jsonl/train/java_train_11.jsonl.gz  \n",
      "   creating: java/final/jsonl/test/\n",
      "  inflating: java/final/jsonl/test/java_test_0.jsonl.gz  \n",
      "   creating: java/final/jsonl/valid/\n",
      "  inflating: java/final/jsonl/valid/java_valid_0.jsonl.gz  \n",
      "  inflating: java_dedupe_definitions_v2.pkl  \n",
      "  inflating: java_licenses.pkl       \n"
     ]
    }
   ],
   "source": [
    "!unzip java.zip"
   ]
  },
  {
   "cell_type": "code",
   "execution_count": 3,
   "metadata": {},
   "outputs": [],
   "source": [
    "# decompress this gzip file\n",
    "!gzip -d java/final/jsonl/test/java_test_0.jsonl.gz"
   ]
  },
  {
   "cell_type": "markdown",
   "metadata": {},
   "source": [
    "Read in the file and display the first row.  The data is stored in [JSON Lines](http://jsonlines.org/) format."
   ]
  },
  {
   "cell_type": "code",
   "execution_count": 4,
   "metadata": {},
   "outputs": [
    {
     "data": {
      "text/plain": [
       "'{\"repo\": \"ReactiveX/RxJava\", \"path\": \"src/main/java/io/reactivex/internal/observers/QueueDrainObserver.java\", \"func_name\": \"QueueDrainObserver.fastPathOrderedEmit\", \"original_string\": \"protected final void fastPathOrderedEmit(U value, boolean delayError, Disposable disposable) {\\\\n        final Observer<? super V> observer = downstream;\\\\n        final SimplePlainQueue<U> q = queue;\\\\n\\\\n        if (wip.get() == 0 && wip.compareAndSet(0, 1)) {\\\\n            if (q.isEmpty()) {\\\\n                accept(observer, value);\\\\n                if (leave(-1) == 0) {\\\\n                    return;\\\\n                }\\\\n            } else {\\\\n                q.offer(value);\\\\n            }\\\\n        } else {\\\\n            q.offer(value);\\\\n            if (!enter()) {\\\\n                return;\\\\n            }\\\\n        }\\\\n        QueueDrainHelper.drainLoop(q, observer, delayError, disposable, this);\\\\n    }\", \"language\": \"java\", \"code\": \"protected final void fastPathOrderedEmit(U value, boolean delayError, Disposable disposable) {\\\\n        final Observer<? super V> observer = downstream;\\\\n        final SimplePlainQueue<U> q = queue;\\\\n\\\\n        if (wip.get() == 0 && wip.compareAndSet(0, 1)) {\\\\n            if (q.isEmpty()) {\\\\n                accept(observer, value);\\\\n                if (leave(-1) == 0) {\\\\n                    return;\\\\n                }\\\\n            } else {\\\\n                q.offer(value);\\\\n            }\\\\n        } else {\\\\n            q.offer(value);\\\\n            if (!enter()) {\\\\n                return;\\\\n            }\\\\n        }\\\\n        QueueDrainHelper.drainLoop(q, observer, delayError, disposable, this);\\\\n    }\", \"code_tokens\": [\"protected\", \"final\", \"void\", \"fastPathOrderedEmit\", \"(\", \"U\", \"value\", \",\", \"boolean\", \"delayError\", \",\", \"Disposable\", \"disposable\", \")\", \"{\", \"final\", \"Observer\", \"<\", \"?\", \"super\", \"V\", \">\", \"observer\", \"=\", \"downstream\", \";\", \"final\", \"SimplePlainQueue\", \"<\", \"U\", \">\", \"q\", \"=\", \"queue\", \";\", \"if\", \"(\", \"wip\", \".\", \"get\", \"(\", \")\", \"==\", \"0\", \"&&\", \"wip\", \".\", \"compareAndSet\", \"(\", \"0\", \",\", \"1\", \")\", \")\", \"{\", \"if\", \"(\", \"q\", \".\", \"isEmpty\", \"(\", \")\", \")\", \"{\", \"accept\", \"(\", \"observer\", \",\", \"value\", \")\", \";\", \"if\", \"(\", \"leave\", \"(\", \"-\", \"1\", \")\", \"==\", \"0\", \")\", \"{\", \"return\", \";\", \"}\", \"}\", \"else\", \"{\", \"q\", \".\", \"offer\", \"(\", \"value\", \")\", \";\", \"}\", \"}\", \"else\", \"{\", \"q\", \".\", \"offer\", \"(\", \"value\", \")\", \";\", \"if\", \"(\", \"!\", \"enter\", \"(\", \")\", \")\", \"{\", \"return\", \";\", \"}\", \"}\", \"QueueDrainHelper\", \".\", \"drainLoop\", \"(\", \"q\", \",\", \"observer\", \",\", \"delayError\", \",\", \"disposable\", \",\", \"this\", \")\", \";\", \"}\"], \"docstring\": \"Makes sure the fast-path emits in order.\\\\n@param value the value to emit or queue up\\\\n@param delayError if true, errors are delayed until the source has terminated\\\\n@param disposable the resource to dispose if the drain terminates\", \"docstring_tokens\": [\"Makes\", \"sure\", \"the\", \"fast\", \"-\", \"path\", \"emits\", \"in\", \"order\", \".\"], \"sha\": \"ac84182aa2bd866b53e01c8e3fe99683b882c60e\", \"url\": \"https://github.com/ReactiveX/RxJava/blob/ac84182aa2bd866b53e01c8e3fe99683b882c60e/src/main/java/io/reactivex/internal/observers/QueueDrainObserver.java#L88-L108\", \"partition\": \"test\"}\\n'"
      ]
     },
     "execution_count": 4,
     "metadata": {},
     "output_type": "execute_result"
    }
   ],
   "source": [
    "with open('java/final/jsonl/test/java_test_0.jsonl', 'r') as f:\n",
    "    sample_file = f.readlines()\n",
    "sample_file[0]"
   ]
  },
  {
   "cell_type": "markdown",
   "metadata": {},
   "source": [
    "We can utilize the fact that each line in the file is valid json, and display the first row in a more human readable form:"
   ]
  },
  {
   "cell_type": "code",
   "execution_count": 5,
   "metadata": {},
   "outputs": [
    {
     "name": "stdout",
     "output_type": "stream",
     "text": [
      "{'code': 'protected final void fastPathOrderedEmit(U value, boolean '\n",
      "         'delayError, Disposable disposable) {\\n'\n",
      "         '        final Observer<? super V> observer = downstream;\\n'\n",
      "         '        final SimplePlainQueue<U> q = queue;\\n'\n",
      "         '\\n'\n",
      "         '        if (wip.get() == 0 && wip.compareAndSet(0, 1)) {\\n'\n",
      "         '            if (q.isEmpty()) {\\n'\n",
      "         '                accept(observer, value);\\n'\n",
      "         '                if (leave(-1) == 0) {\\n'\n",
      "         '                    return;\\n'\n",
      "         '                }\\n'\n",
      "         '            } else {\\n'\n",
      "         '                q.offer(value);\\n'\n",
      "         '            }\\n'\n",
      "         '        } else {\\n'\n",
      "         '            q.offer(value);\\n'\n",
      "         '            if (!enter()) {\\n'\n",
      "         '                return;\\n'\n",
      "         '            }\\n'\n",
      "         '        }\\n'\n",
      "         '        QueueDrainHelper.drainLoop(q, observer, delayError, '\n",
      "         'disposable, this);\\n'\n",
      "         '    }',\n",
      " 'code_tokens': ['protected',\n",
      "                 'final',\n",
      "                 'void',\n",
      "                 'fastPathOrderedEmit',\n",
      "                 '(',\n",
      "                 'U',\n",
      "                 'value',\n",
      "                 ',',\n",
      "                 'boolean',\n",
      "                 'delayError',\n",
      "                 ',',\n",
      "                 'Disposable',\n",
      "                 'disposable',\n",
      "                 ')',\n",
      "                 '{',\n",
      "                 'final',\n",
      "                 'Observer',\n",
      "                 '<',\n",
      "                 '?',\n",
      "                 'super',\n",
      "                 'V',\n",
      "                 '>',\n",
      "                 'observer',\n",
      "                 '=',\n",
      "                 'downstream',\n",
      "                 ';',\n",
      "                 'final',\n",
      "                 'SimplePlainQueue',\n",
      "                 '<',\n",
      "                 'U',\n",
      "                 '>',\n",
      "                 'q',\n",
      "                 '=',\n",
      "                 'queue',\n",
      "                 ';',\n",
      "                 'if',\n",
      "                 '(',\n",
      "                 'wip',\n",
      "                 '.',\n",
      "                 'get',\n",
      "                 '(',\n",
      "                 ')',\n",
      "                 '==',\n",
      "                 '0',\n",
      "                 '&&',\n",
      "                 'wip',\n",
      "                 '.',\n",
      "                 'compareAndSet',\n",
      "                 '(',\n",
      "                 '0',\n",
      "                 ',',\n",
      "                 '1',\n",
      "                 ')',\n",
      "                 ')',\n",
      "                 '{',\n",
      "                 'if',\n",
      "                 '(',\n",
      "                 'q',\n",
      "                 '.',\n",
      "                 'isEmpty',\n",
      "                 '(',\n",
      "                 ')',\n",
      "                 ')',\n",
      "                 '{',\n",
      "                 'accept',\n",
      "                 '(',\n",
      "                 'observer',\n",
      "                 ',',\n",
      "                 'value',\n",
      "                 ')',\n",
      "                 ';',\n",
      "                 'if',\n",
      "                 '(',\n",
      "                 'leave',\n",
      "                 '(',\n",
      "                 '-',\n",
      "                 '1',\n",
      "                 ')',\n",
      "                 '==',\n",
      "                 '0',\n",
      "                 ')',\n",
      "                 '{',\n",
      "                 'return',\n",
      "                 ';',\n",
      "                 '}',\n",
      "                 '}',\n",
      "                 'else',\n",
      "                 '{',\n",
      "                 'q',\n",
      "                 '.',\n",
      "                 'offer',\n",
      "                 '(',\n",
      "                 'value',\n",
      "                 ')',\n",
      "                 ';',\n",
      "                 '}',\n",
      "                 '}',\n",
      "                 'else',\n",
      "                 '{',\n",
      "                 'q',\n",
      "                 '.',\n",
      "                 'offer',\n",
      "                 '(',\n",
      "                 'value',\n",
      "                 ')',\n",
      "                 ';',\n",
      "                 'if',\n",
      "                 '(',\n",
      "                 '!',\n",
      "                 'enter',\n",
      "                 '(',\n",
      "                 ')',\n",
      "                 ')',\n",
      "                 '{',\n",
      "                 'return',\n",
      "                 ';',\n",
      "                 '}',\n",
      "                 '}',\n",
      "                 'QueueDrainHelper',\n",
      "                 '.',\n",
      "                 'drainLoop',\n",
      "                 '(',\n",
      "                 'q',\n",
      "                 ',',\n",
      "                 'observer',\n",
      "                 ',',\n",
      "                 'delayError',\n",
      "                 ',',\n",
      "                 'disposable',\n",
      "                 ',',\n",
      "                 'this',\n",
      "                 ')',\n",
      "                 ';',\n",
      "                 '}'],\n",
      " 'docstring': 'Makes sure the fast-path emits in order.\\n'\n",
      "              '@param value the value to emit or queue up\\n'\n",
      "              '@param delayError if true, errors are delayed until the source '\n",
      "              'has terminated\\n'\n",
      "              '@param disposable the resource to dispose if the drain '\n",
      "              'terminates',\n",
      " 'docstring_tokens': ['Makes',\n",
      "                      'sure',\n",
      "                      'the',\n",
      "                      'fast',\n",
      "                      '-',\n",
      "                      'path',\n",
      "                      'emits',\n",
      "                      'in',\n",
      "                      'order',\n",
      "                      '.'],\n",
      " 'func_name': 'QueueDrainObserver.fastPathOrderedEmit',\n",
      " 'language': 'java',\n",
      " 'original_string': 'protected final void fastPathOrderedEmit(U value, boolean '\n",
      "                    'delayError, Disposable disposable) {\\n'\n",
      "                    '        final Observer<? super V> observer = downstream;\\n'\n",
      "                    '        final SimplePlainQueue<U> q = queue;\\n'\n",
      "                    '\\n'\n",
      "                    '        if (wip.get() == 0 && wip.compareAndSet(0, 1)) {\\n'\n",
      "                    '            if (q.isEmpty()) {\\n'\n",
      "                    '                accept(observer, value);\\n'\n",
      "                    '                if (leave(-1) == 0) {\\n'\n",
      "                    '                    return;\\n'\n",
      "                    '                }\\n'\n",
      "                    '            } else {\\n'\n",
      "                    '                q.offer(value);\\n'\n",
      "                    '            }\\n'\n",
      "                    '        } else {\\n'\n",
      "                    '            q.offer(value);\\n'\n",
      "                    '            if (!enter()) {\\n'\n",
      "                    '                return;\\n'\n",
      "                    '            }\\n'\n",
      "                    '        }\\n'\n",
      "                    '        QueueDrainHelper.drainLoop(q, observer, '\n",
      "                    'delayError, disposable, this);\\n'\n",
      "                    '    }',\n",
      " 'partition': 'test',\n",
      " 'path': 'src/main/java/io/reactivex/internal/observers/QueueDrainObserver.java',\n",
      " 'repo': 'ReactiveX/RxJava',\n",
      " 'sha': 'ac84182aa2bd866b53e01c8e3fe99683b882c60e',\n",
      " 'url': 'https://github.com/ReactiveX/RxJava/blob/ac84182aa2bd866b53e01c8e3fe99683b882c60e/src/main/java/io/reactivex/internal/observers/QueueDrainObserver.java#L88-L108'}\n"
     ]
    }
   ],
   "source": [
    "pprint(json.loads(sample_file[0]))"
   ]
  },
  {
   "cell_type": "markdown",
   "metadata": {},
   "source": [
    "Definitions of each of the above fields are located in the  in the README.md file in the root of this repository."
   ]
  },
  {
   "cell_type": "code",
   "execution_count": 6,
   "metadata": {
    "scrolled": false
   },
   "outputs": [],
   "source": [
    "java_files = sorted(Path('java').glob('**/*.gz'))"
   ]
  },
  {
   "cell_type": "code",
   "execution_count": 7,
   "metadata": {},
   "outputs": [
    {
     "name": "stdout",
     "output_type": "stream",
     "text": [
      "Total number of files: 17\n"
     ]
    }
   ],
   "source": [
    "print(f'Total number of files: {len(java_files):,}')"
   ]
  },
  {
   "cell_type": "markdown",
   "metadata": {},
   "source": [
    "To make analysis of this dataset easier, we can load all of the data into a pandas dataframe: "
   ]
  },
  {
   "cell_type": "code",
   "execution_count": 8,
   "metadata": {},
   "outputs": [],
   "source": [
    "columns_long_list = ['repo', 'path', 'url', 'code', \n",
    "                     'code_tokens', 'docstring', 'docstring_tokens', \n",
    "                     'language', 'partition']\n",
    "\n",
    "columns_short_list = ['code_tokens', 'docstring_tokens', \n",
    "                      'language', 'partition']\n",
    "\n",
    "def jsonl_list_to_dataframe(file_list, columns=columns_long_list):\n",
    "    \"\"\"Load a list of jsonl.gz files into a pandas DataFrame.\"\"\"\n",
    "    return pd.concat([pd.read_json(f, \n",
    "                                   orient='records', \n",
    "                                   compression='gzip',\n",
    "                                   lines=True)[columns] \n",
    "                      for f in file_list], sort=False)"
   ]
  },
  {
   "cell_type": "markdown",
   "metadata": {},
   "source": [
    "This is what the python dataset looks like:"
   ]
  },
  {
   "cell_type": "code",
   "execution_count": 9,
   "metadata": {},
   "outputs": [],
   "source": [
    "df = jsonl_list_to_dataframe(java_files)"
   ]
  },
  {
   "cell_type": "code",
   "execution_count": 10,
   "metadata": {},
   "outputs": [
    {
     "data": {
      "text/html": [
       "<div>\n",
       "<style scoped>\n",
       "    .dataframe tbody tr th:only-of-type {\n",
       "        vertical-align: middle;\n",
       "    }\n",
       "\n",
       "    .dataframe tbody tr th {\n",
       "        vertical-align: top;\n",
       "    }\n",
       "\n",
       "    .dataframe thead th {\n",
       "        text-align: right;\n",
       "    }\n",
       "</style>\n",
       "<table border=\"1\" class=\"dataframe\">\n",
       "  <thead>\n",
       "    <tr style=\"text-align: right;\">\n",
       "      <th></th>\n",
       "      <th>repo</th>\n",
       "      <th>path</th>\n",
       "      <th>url</th>\n",
       "      <th>code</th>\n",
       "      <th>code_tokens</th>\n",
       "      <th>docstring</th>\n",
       "      <th>docstring_tokens</th>\n",
       "      <th>language</th>\n",
       "      <th>partition</th>\n",
       "    </tr>\n",
       "  </thead>\n",
       "  <tbody>\n",
       "    <tr>\n",
       "      <th>0</th>\n",
       "      <td>spring-projects/spring-boot</td>\n",
       "      <td>spring-boot-project/spring-boot/src/main/java/org/springframework/boot/context/properties/bind/IndexedElementsBinder.java</td>\n",
       "      <td>https://github.com/spring-projects/spring-boot/blob/0b27f7c70e164b2b1a96477f1d9c1acba56790c1/spring-boot-project/spring-boot/src/main/java/org/springframework/boot/context/properties/bind/IndexedElementsBinder.java#L67-L77</td>\n",
       "      <td>protected final void bindIndexed(ConfigurationPropertyName name, Bindable&lt;?&gt; target,\\n\\t\\t\\tAggregateElementBinder elementBinder, ResolvableType aggregateType,\\n\\t\\t\\tResolvableType elementType, IndexedCollectionSupplier result) {\\n\\t\\tfor (ConfigurationPropertySource source : getContext().getSo...</td>\n",
       "      <td>[protected, final, void, bindIndexed, (, ConfigurationPropertyName, name, ,, Bindable, &lt;, ?, &gt;, target, ,, AggregateElementBinder, elementBinder, ,, ResolvableType, aggregateType, ,, ResolvableType, elementType, ,, IndexedCollectionSupplier, result, ), {, for, (, ConfigurationPropertySource, sou...</td>\n",
       "      <td>Bind indexed elements to the supplied collection.\\n@param name the name of the property to bind\\n@param target the target bindable\\n@param elementBinder the binder to use for elements\\n@param aggregateType the aggregate type, may be a collection or an array\\n@param elementType the element type\\n...</td>\n",
       "      <td>[Bind, indexed, elements, to, the, supplied, collection, .]</td>\n",
       "      <td>java</td>\n",
       "      <td>train</td>\n",
       "    </tr>\n",
       "    <tr>\n",
       "      <th>1</th>\n",
       "      <td>spring-projects/spring-boot</td>\n",
       "      <td>spring-boot-project/spring-boot/src/main/java/org/springframework/boot/web/servlet/AbstractFilterRegistrationBean.java</td>\n",
       "      <td>https://github.com/spring-projects/spring-boot/blob/0b27f7c70e164b2b1a96477f1d9c1acba56790c1/spring-boot-project/spring-boot/src/main/java/org/springframework/boot/web/servlet/AbstractFilterRegistrationBean.java#L75-L80</td>\n",
       "      <td>public void setServletRegistrationBeans(\\n\\t\\t\\tCollection&lt;? extends ServletRegistrationBean&lt;?&gt;&gt; servletRegistrationBeans) {\\n\\t\\tAssert.notNull(servletRegistrationBeans,\\n\\t\\t\\t\\t\"ServletRegistrationBeans must not be null\");\\n\\t\\tthis.servletRegistrationBeans = new LinkedHashSet&lt;&gt;(servletRegist...</td>\n",
       "      <td>[public, void, setServletRegistrationBeans, (, Collection, &lt;, ?, extends, ServletRegistrationBean, &lt;, ?, &gt;, &gt;, servletRegistrationBeans, ), {, Assert, ., notNull, (, servletRegistrationBeans, ,, \"ServletRegistrationBeans must not be null\", ), ;, this, ., servletRegistrationBeans, =, new, LinkedH...</td>\n",
       "      <td>Set {@link ServletRegistrationBean}s that the filter will be registered against.\\n@param servletRegistrationBeans the Servlet registration beans</td>\n",
       "      <td>[Set, {]</td>\n",
       "      <td>java</td>\n",
       "      <td>train</td>\n",
       "    </tr>\n",
       "    <tr>\n",
       "      <th>2</th>\n",
       "      <td>spring-projects/spring-boot</td>\n",
       "      <td>spring-boot-project/spring-boot/src/main/java/org/springframework/boot/web/servlet/AbstractFilterRegistrationBean.java</td>\n",
       "      <td>https://github.com/spring-projects/spring-boot/blob/0b27f7c70e164b2b1a96477f1d9c1acba56790c1/spring-boot-project/spring-boot/src/main/java/org/springframework/boot/web/servlet/AbstractFilterRegistrationBean.java#L98-L103</td>\n",
       "      <td>public void addServletRegistrationBeans(\\n\\t\\t\\tServletRegistrationBean&lt;?&gt;... servletRegistrationBeans) {\\n\\t\\tAssert.notNull(servletRegistrationBeans,\\n\\t\\t\\t\\t\"ServletRegistrationBeans must not be null\");\\n\\t\\tCollections.addAll(this.servletRegistrationBeans, servletRegistrationBeans);\\n\\t}</td>\n",
       "      <td>[public, void, addServletRegistrationBeans, (, ServletRegistrationBean, &lt;, ?, &gt;, ..., servletRegistrationBeans, ), {, Assert, ., notNull, (, servletRegistrationBeans, ,, \"ServletRegistrationBeans must not be null\", ), ;, Collections, ., addAll, (, this, ., servletRegistrationBeans, ,, servletReg...</td>\n",
       "      <td>Add {@link ServletRegistrationBean}s for the filter.\\n@param servletRegistrationBeans the servlet registration beans to add\\n@see #setServletRegistrationBeans</td>\n",
       "      <td>[Add, {]</td>\n",
       "      <td>java</td>\n",
       "      <td>train</td>\n",
       "    </tr>\n",
       "  </tbody>\n",
       "</table>\n",
       "</div>"
      ],
      "text/plain": [
       "                          repo   \n",
       "0  spring-projects/spring-boot  \\\n",
       "1  spring-projects/spring-boot   \n",
       "2  spring-projects/spring-boot   \n",
       "\n",
       "                                                                                                                        path   \n",
       "0  spring-boot-project/spring-boot/src/main/java/org/springframework/boot/context/properties/bind/IndexedElementsBinder.java  \\\n",
       "1     spring-boot-project/spring-boot/src/main/java/org/springframework/boot/web/servlet/AbstractFilterRegistrationBean.java   \n",
       "2     spring-boot-project/spring-boot/src/main/java/org/springframework/boot/web/servlet/AbstractFilterRegistrationBean.java   \n",
       "\n",
       "                                                                                                                                                                                                                              url   \n",
       "0  https://github.com/spring-projects/spring-boot/blob/0b27f7c70e164b2b1a96477f1d9c1acba56790c1/spring-boot-project/spring-boot/src/main/java/org/springframework/boot/context/properties/bind/IndexedElementsBinder.java#L67-L77  \\\n",
       "1     https://github.com/spring-projects/spring-boot/blob/0b27f7c70e164b2b1a96477f1d9c1acba56790c1/spring-boot-project/spring-boot/src/main/java/org/springframework/boot/web/servlet/AbstractFilterRegistrationBean.java#L75-L80   \n",
       "2    https://github.com/spring-projects/spring-boot/blob/0b27f7c70e164b2b1a96477f1d9c1acba56790c1/spring-boot-project/spring-boot/src/main/java/org/springframework/boot/web/servlet/AbstractFilterRegistrationBean.java#L98-L103   \n",
       "\n",
       "                                                                                                                                                                                                                                                                                                          code   \n",
       "0  protected final void bindIndexed(ConfigurationPropertyName name, Bindable<?> target,\\n\\t\\t\\tAggregateElementBinder elementBinder, ResolvableType aggregateType,\\n\\t\\t\\tResolvableType elementType, IndexedCollectionSupplier result) {\\n\\t\\tfor (ConfigurationPropertySource source : getContext().getSo...  \\\n",
       "1  public void setServletRegistrationBeans(\\n\\t\\t\\tCollection<? extends ServletRegistrationBean<?>> servletRegistrationBeans) {\\n\\t\\tAssert.notNull(servletRegistrationBeans,\\n\\t\\t\\t\\t\"ServletRegistrationBeans must not be null\");\\n\\t\\tthis.servletRegistrationBeans = new LinkedHashSet<>(servletRegist...   \n",
       "2        public void addServletRegistrationBeans(\\n\\t\\t\\tServletRegistrationBean<?>... servletRegistrationBeans) {\\n\\t\\tAssert.notNull(servletRegistrationBeans,\\n\\t\\t\\t\\t\"ServletRegistrationBeans must not be null\");\\n\\t\\tCollections.addAll(this.servletRegistrationBeans, servletRegistrationBeans);\\n\\t}   \n",
       "\n",
       "                                                                                                                                                                                                                                                                                                   code_tokens   \n",
       "0  [protected, final, void, bindIndexed, (, ConfigurationPropertyName, name, ,, Bindable, <, ?, >, target, ,, AggregateElementBinder, elementBinder, ,, ResolvableType, aggregateType, ,, ResolvableType, elementType, ,, IndexedCollectionSupplier, result, ), {, for, (, ConfigurationPropertySource, sou...  \\\n",
       "1  [public, void, setServletRegistrationBeans, (, Collection, <, ?, extends, ServletRegistrationBean, <, ?, >, >, servletRegistrationBeans, ), {, Assert, ., notNull, (, servletRegistrationBeans, ,, \"ServletRegistrationBeans must not be null\", ), ;, this, ., servletRegistrationBeans, =, new, LinkedH...   \n",
       "2  [public, void, addServletRegistrationBeans, (, ServletRegistrationBean, <, ?, >, ..., servletRegistrationBeans, ), {, Assert, ., notNull, (, servletRegistrationBeans, ,, \"ServletRegistrationBeans must not be null\", ), ;, Collections, ., addAll, (, this, ., servletRegistrationBeans, ,, servletReg...   \n",
       "\n",
       "                                                                                                                                                                                                                                                                                                     docstring   \n",
       "0  Bind indexed elements to the supplied collection.\\n@param name the name of the property to bind\\n@param target the target bindable\\n@param elementBinder the binder to use for elements\\n@param aggregateType the aggregate type, may be a collection or an array\\n@param elementType the element type\\n...  \\\n",
       "1                                                                                                                                                             Set {@link ServletRegistrationBean}s that the filter will be registered against.\\n@param servletRegistrationBeans the Servlet registration beans   \n",
       "2                                                                                                                                               Add {@link ServletRegistrationBean}s for the filter.\\n@param servletRegistrationBeans the servlet registration beans to add\\n@see #setServletRegistrationBeans   \n",
       "\n",
       "                                              docstring_tokens language   \n",
       "0  [Bind, indexed, elements, to, the, supplied, collection, .]     java  \\\n",
       "1                                                     [Set, {]     java   \n",
       "2                                                     [Add, {]     java   \n",
       "\n",
       "  partition  \n",
       "0     train  \n",
       "1     train  \n",
       "2     train  "
      ]
     },
     "execution_count": 10,
     "metadata": {},
     "output_type": "execute_result"
    }
   ],
   "source": [
    "df.head(3)"
   ]
  },
  {
   "cell_type": "code",
   "execution_count": 12,
   "metadata": {},
   "outputs": [
    {
     "data": {
      "text/plain": [
       "language\n",
       "java    469779\n",
       "Name: count, dtype: int64"
      ]
     },
     "execution_count": 12,
     "metadata": {},
     "output_type": "execute_result"
    }
   ],
   "source": [
    "df.language.value_counts()"
   ]
  },
  {
   "cell_type": "code",
   "execution_count": 13,
   "metadata": {},
   "outputs": [],
   "source": [
    "data = df['code']"
   ]
  },
  {
   "cell_type": "code",
   "execution_count": 14,
   "metadata": {},
   "outputs": [
    {
     "data": {
      "text/plain": [
       "469779"
      ]
     },
     "execution_count": 14,
     "metadata": {},
     "output_type": "execute_result"
    }
   ],
   "source": [
    "len(data)"
   ]
  },
  {
   "cell_type": "code",
   "execution_count": 15,
   "metadata": {},
   "outputs": [],
   "source": [
    "selected = data[:26000]"
   ]
  },
  {
   "cell_type": "code",
   "execution_count": 16,
   "metadata": {},
   "outputs": [],
   "source": [
    "train_df, test_df = train_test_split(selected, test_size=0.2, random_state=42)\n",
    "\n",
    "# Save the splits to CSV files\n",
    "train_df.to_csv('train.csv', index=False)\n",
    "test_df.to_csv('test.csv', index=False)"
   ]
  },
  {
   "cell_type": "code",
   "execution_count": null,
   "metadata": {},
   "outputs": [],
   "source": []
  }
 ],
 "metadata": {
  "kernelspec": {
   "display_name": "Python 3 (ipykernel)",
   "language": "python",
   "name": "python3"
  },
  "language_info": {
   "codemirror_mode": {
    "name": "ipython",
    "version": 3
   },
   "file_extension": ".py",
   "mimetype": "text/x-python",
   "name": "python",
   "nbconvert_exporter": "python",
   "pygments_lexer": "ipython3",
   "version": "3.10.10"
  }
 },
 "nbformat": 4,
 "nbformat_minor": 2
}
